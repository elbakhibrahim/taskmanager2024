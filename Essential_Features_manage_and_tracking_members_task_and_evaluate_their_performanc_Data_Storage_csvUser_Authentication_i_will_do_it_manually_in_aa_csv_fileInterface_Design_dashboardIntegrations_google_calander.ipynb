{
  "cells": [
    {
      "cell_type": "markdown",
      "metadata": {
        "id": "view-in-github",
        "colab_type": "text"
      },
      "source": [
        "<a href=\"https://colab.research.google.com/github/elbakhibrahim/taskmanager2024/blob/main/Essential_Features_manage_and_tracking_members_task_and_evaluate_their_performanc_Data_Storage_csvUser_Authentication_i_will_do_it_manually_in_aa_csv_fileInterface_Design_dashboardIntegrations_google_calander.ipynb\" target=\"_parent\"><img src=\"https://colab.research.google.com/assets/colab-badge.svg\" alt=\"Open In Colab\"/></a>"
      ]
    },
    {
      "cell_type": "markdown",
      "source": [
        "**I'm ready to start crafting the code based on your specifications. Here's the initial structure, incorporating your essential features:**\n",
        "\n",
        "**1. Install Required Libraries:**"
      ],
      "metadata": {
        "id": "nKoldmJBVIJT"
      }
    },
    {
      "cell_type": "code",
      "source": [
        "!pip install streamlit pandas  # Add libraries for Google Calendar integration"
      ],
      "outputs": [
        {
          "metadata": {
            "tags": null
          },
          "name": "stdout",
          "output_type": "stream",
          "text": [
            "Requirement already satisfied: streamlit in /usr/local/lib/python3.10/dist-packages (1.29.0)\n",
            "Requirement already satisfied: pandas in /usr/local/lib/python3.10/dist-packages (1.5.3)\n",
            "Requirement already satisfied: altair<6,>=4.0 in /usr/local/lib/python3.10/dist-packages (from streamlit) (4.2.2)\n",
            "Requirement already satisfied: blinker<2,>=1.0.0 in /usr/lib/python3/dist-packages (from streamlit) (1.4)\n",
            "Requirement already satisfied: cachetools<6,>=4.0 in /usr/local/lib/python3.10/dist-packages (from streamlit) (5.3.2)\n",
            "Requirement already satisfied: click<9,>=7.0 in /usr/local/lib/python3.10/dist-packages (from streamlit) (8.1.7)\n",
            "Requirement already satisfied: importlib-metadata<7,>=1.4 in /usr/local/lib/python3.10/dist-packages (from streamlit) (6.11.0)\n",
            "Requirement already satisfied: numpy<2,>=1.19.3 in /usr/local/lib/python3.10/dist-packages (from streamlit) (1.23.5)\n",
            "Requirement already satisfied: packaging<24,>=16.8 in /usr/local/lib/python3.10/dist-packages (from streamlit) (23.2)\n",
            "Requirement already satisfied: pillow<11,>=7.1.0 in /usr/local/lib/python3.10/dist-packages (from streamlit) (9.4.0)\n",
            "Requirement already satisfied: protobuf<5,>=3.20 in /usr/local/lib/python3.10/dist-packages (from streamlit) (3.20.3)\n",
            "Requirement already satisfied: pyarrow>=6.0 in /usr/local/lib/python3.10/dist-packages (from streamlit) (10.0.1)\n",
            "Requirement already satisfied: python-dateutil<3,>=2.7.3 in /usr/local/lib/python3.10/dist-packages (from streamlit) (2.8.2)\n",
            "Requirement already satisfied: requests<3,>=2.27 in /usr/local/lib/python3.10/dist-packages (from streamlit) (2.31.0)\n",
            "Requirement already satisfied: rich<14,>=10.14.0 in /usr/local/lib/python3.10/dist-packages (from streamlit) (13.7.0)\n",
            "Requirement already satisfied: tenacity<9,>=8.1.0 in /usr/local/lib/python3.10/dist-packages (from streamlit) (8.2.3)\n",
            "Requirement already satisfied: toml<2,>=0.10.1 in /usr/local/lib/python3.10/dist-packages (from streamlit) (0.10.2)\n",
            "Requirement already satisfied: typing-extensions<5,>=4.3.0 in /usr/local/lib/python3.10/dist-packages (from streamlit) (4.5.0)\n",
            "Requirement already satisfied: tzlocal<6,>=1.1 in /usr/local/lib/python3.10/dist-packages (from streamlit) (5.2)\n",
            "Requirement already satisfied: validators<1,>=0.2 in /usr/local/lib/python3.10/dist-packages (from streamlit) (0.22.0)\n",
            "Requirement already satisfied: gitpython!=3.1.19,<4,>=3.0.7 in /usr/local/lib/python3.10/dist-packages (from streamlit) (3.1.40)\n",
            "Requirement already satisfied: pydeck<1,>=0.8.0b4 in /usr/local/lib/python3.10/dist-packages (from streamlit) (0.8.1b0)\n",
            "Requirement already satisfied: tornado<7,>=6.0.3 in /usr/local/lib/python3.10/dist-packages (from streamlit) (6.3.2)\n",
            "Requirement already satisfied: watchdog>=2.1.5 in /usr/local/lib/python3.10/dist-packages (from streamlit) (3.0.0)\n",
            "Requirement already satisfied: pytz>=2020.1 in /usr/local/lib/python3.10/dist-packages (from pandas) (2023.3.post1)\n",
            "Requirement already satisfied: entrypoints in /usr/local/lib/python3.10/dist-packages (from altair<6,>=4.0->streamlit) (0.4)\n",
            "Requirement already satisfied: jinja2 in /usr/local/lib/python3.10/dist-packages (from altair<6,>=4.0->streamlit) (3.1.2)\n",
            "Requirement already satisfied: jsonschema>=3.0 in /usr/local/lib/python3.10/dist-packages (from altair<6,>=4.0->streamlit) (4.19.2)\n",
            "Requirement already satisfied: toolz in /usr/local/lib/python3.10/dist-packages (from altair<6,>=4.0->streamlit) (0.12.0)\n",
            "Requirement already satisfied: gitdb<5,>=4.0.1 in /usr/local/lib/python3.10/dist-packages (from gitpython!=3.1.19,<4,>=3.0.7->streamlit) (4.0.11)\n",
            "Requirement already satisfied: zipp>=0.5 in /usr/local/lib/python3.10/dist-packages (from importlib-metadata<7,>=1.4->streamlit) (3.17.0)\n",
            "Requirement already satisfied: six>=1.5 in /usr/local/lib/python3.10/dist-packages (from python-dateutil<3,>=2.7.3->streamlit) (1.16.0)\n",
            "Requirement already satisfied: charset-normalizer<4,>=2 in /usr/local/lib/python3.10/dist-packages (from requests<3,>=2.27->streamlit) (3.3.2)\n",
            "Requirement already satisfied: idna<4,>=2.5 in /usr/local/lib/python3.10/dist-packages (from requests<3,>=2.27->streamlit) (3.6)\n",
            "Requirement already satisfied: urllib3<3,>=1.21.1 in /usr/local/lib/python3.10/dist-packages (from requests<3,>=2.27->streamlit) (2.0.7)\n",
            "Requirement already satisfied: certifi>=2017.4.17 in /usr/local/lib/python3.10/dist-packages (from requests<3,>=2.27->streamlit) (2023.11.17)\n",
            "Requirement already satisfied: markdown-it-py>=2.2.0 in /usr/local/lib/python3.10/dist-packages (from rich<14,>=10.14.0->streamlit) (3.0.0)\n",
            "Requirement already satisfied: pygments<3.0.0,>=2.13.0 in /usr/local/lib/python3.10/dist-packages (from rich<14,>=10.14.0->streamlit) (2.16.1)\n",
            "Requirement already satisfied: smmap<6,>=3.0.1 in /usr/local/lib/python3.10/dist-packages (from gitdb<5,>=4.0.1->gitpython!=3.1.19,<4,>=3.0.7->streamlit) (5.0.1)\n",
            "Requirement already satisfied: MarkupSafe>=2.0 in /usr/local/lib/python3.10/dist-packages (from jinja2->altair<6,>=4.0->streamlit) (2.1.3)\n",
            "Requirement already satisfied: attrs>=22.2.0 in /usr/local/lib/python3.10/dist-packages (from jsonschema>=3.0->altair<6,>=4.0->streamlit) (23.1.0)\n",
            "Requirement already satisfied: jsonschema-specifications>=2023.03.6 in /usr/local/lib/python3.10/dist-packages (from jsonschema>=3.0->altair<6,>=4.0->streamlit) (2023.11.2)\n",
            "Requirement already satisfied: referencing>=0.28.4 in /usr/local/lib/python3.10/dist-packages (from jsonschema>=3.0->altair<6,>=4.0->streamlit) (0.32.0)\n",
            "Requirement already satisfied: rpds-py>=0.7.1 in /usr/local/lib/python3.10/dist-packages (from jsonschema>=3.0->altair<6,>=4.0->streamlit) (0.15.2)\n",
            "Requirement already satisfied: mdurl~=0.1 in /usr/local/lib/python3.10/dist-packages (from markdown-it-py>=2.2.0->rich<14,>=10.14.0->streamlit) (0.1.2)\n"
          ]
        }
      ],
      "execution_count": null,
      "metadata": {
        "colab": {
          "base_uri": "https://localhost:8080/"
        },
        "id": "k7Gpz6edVIJa",
        "outputId": "9d051e64-8f18-4ce3-eea7-21a2ee1ad315"
      }
    },
    {
      "cell_type": "markdown",
      "source": [
        "**2. Import Libraries:**"
      ],
      "metadata": {
        "id": "KXscPNqFVIJf"
      }
    },
    {
      "cell_type": "code",
      "source": [
        "import streamlit as st\n",
        "import pandas as pd\n",
        "# Import libraries for Google Calendar integration"
      ],
      "outputs": [],
      "execution_count": null,
      "metadata": {
        "id": "wFHNeG6EVIJg"
      }
    },
    {
      "cell_type": "code",
      "source": [
        "import pandas as pd"
      ],
      "metadata": {
        "id": "n3n84iVjjkE7"
      },
      "execution_count": null,
      "outputs": []
    },
    {
      "cell_type": "markdown",
      "source": [
        "**3. Define Data Storage and Load Data:**"
      ],
      "metadata": {
        "id": "w8rWgsONVIJg"
      }
    },
    {
      "cell_type": "code",
      "source": [
        "from google.colab import drive\n",
        "drive.mount('/content/drive')"
      ],
      "metadata": {
        "colab": {
          "base_uri": "https://localhost:8080/"
        },
        "id": "NKBfV7AIZo9A",
        "outputId": "53b0c94e-7718-4ce9-a168-ec22aa08e1fb"
      },
      "execution_count": null,
      "outputs": [
        {
          "output_type": "stream",
          "name": "stdout",
          "text": [
            "Drive already mounted at /content/drive; to attempt to forcibly remount, call drive.mount(\"/content/drive\", force_remount=True).\n"
          ]
        }
      ]
    },
    {
      "cell_type": "code",
      "source": [
        "!pip install Faker"
      ],
      "metadata": {
        "colab": {
          "base_uri": "https://localhost:8080/"
        },
        "id": "-BYy6RyakY_Z",
        "outputId": "00bc6052-845d-4242-8675-ba82d6c42bf3"
      },
      "execution_count": null,
      "outputs": [
        {
          "output_type": "stream",
          "name": "stdout",
          "text": [
            "Requirement already satisfied: Faker in /usr/local/lib/python3.10/dist-packages (21.0.0)\n",
            "Requirement already satisfied: python-dateutil>=2.4 in /usr/local/lib/python3.10/dist-packages (from Faker) (2.8.2)\n",
            "Requirement already satisfied: six>=1.5 in /usr/local/lib/python3.10/dist-packages (from python-dateutil>=2.4->Faker) (1.16.0)\n"
          ]
        }
      ]
    },
    {
      "cell_type": "code",
      "source": [
        "import csv\n",
        "from faker import Faker\n",
        "\n",
        "# Create a Faker object\n",
        "faker = Faker()\n",
        "\n",
        "# Create the CSV files\n",
        "task_file = \"tasks.csv\"\n",
        "user_file = \"users.csv\"\n",
        "\n",
        "# Create the headers for the CSV files\n",
        "task_headers = [\"id\", \"name\", \"description\", \"due_date\", \"status\", \"assignee_id\"]\n",
        "user_headers = [\"id\", \"name\", \"email\"]\n",
        "\n",
        "# Write the headers to the CSV files\n",
        "with open(task_file, \"w\") as f:\n",
        "    writer = csv.writer(f)\n",
        "    writer.writerow(task_headers)\n",
        "\n",
        "with open(user_file, \"w\") as f:\n",
        "    writer = csv.writer(f)\n",
        "    writer.writerow(user_headers)\n",
        "\n",
        "# Generate fake data for tasks\n",
        "tasks = []\n",
        "for _ in range(100):\n",
        "    task = {\n",
        "        \"id\": faker.uuid4(),\n",
        "        \"name\": faker.sentence(),\n",
        "        \"description\": faker.paragraph(),\n",
        "        \"due_date\": faker.date(),\n",
        "        \"status\": faker.random_element([\"TODO\", \"IN_PROGRESS\", \"DONE\"]),\n",
        "        \"assignee_id\": faker.random_element([\"user1\", \"user2\", \"user3\"]),\n",
        "    }\n",
        "    tasks.append(task)\n",
        "\n",
        "# Generate fake data for users\n",
        "users = []\n",
        "for _ in range(10):\n",
        "    user = {\n",
        "        \"id\": faker.uuid4(),\n",
        "        \"name\": faker.name(),\n",
        "        \"email\": faker.email(),\n",
        "    }\n",
        "    users.append(user)\n",
        "\n",
        "# Write the fake data to the CSV files\n",
        "with open(task_file, \"a\") as f:\n",
        "    writer = csv.writer(f)\n",
        "    for task in tasks:\n",
        "        writer.writerow(task.values())\n",
        "\n",
        "with open(user_file, \"a\") as f:\n",
        "    writer = csv.writer(f)\n",
        "    for user in users:\n",
        "        writer.writerow(user.values())"
      ],
      "metadata": {
        "id": "dL9oyIXwlvVU"
      },
      "execution_count": null,
      "outputs": []
    },
    {
      "cell_type": "code",
      "source": [
        "import os"
      ],
      "metadata": {
        "id": "1fC4f5IHmNbT"
      },
      "execution_count": null,
      "outputs": []
    },
    {
      "cell_type": "code",
      "source": [
        "import csv\n",
        "\n",
        "# Open the tasks CSV file in write mode\n",
        "with open(\"tasks.csv\", \"w\") as f:\n",
        "    # Create a CSV writer object\n",
        "    writer = csv.writer(f)\n",
        "\n",
        "    # Write the header row\n",
        "    writer.writerow([\"id\", \"name\", \"description\", \"status\"])\n",
        "\n",
        "    # Write some fake data\n",
        "    for i in range(10):\n",
        "        writer.writerow([i, \"Task {}\".format(i), \"This is a fake task.\", \"In progress\"])\n",
        "\n",
        "# Open the users CSV file in write mode\n",
        "with open(\"users.csv\", \"w\") as f:\n",
        "    # Create a CSV writer object\n",
        "    writer = csv.writer(f)\n",
        "\n",
        "    # Write the header row\n",
        "    writer.writerow([\"id\", \"name\", \"email\"])\n",
        "\n",
        "    # Write some fake data\n",
        "    for i in range(10):\n",
        "        writer.writerow([i, \"User {}\".format(i), \"user{}@example.com\".format(i)])"
      ],
      "metadata": {
        "id": "jdQcffUsmuy5"
      },
      "execution_count": null,
      "outputs": []
    },
    {
      "cell_type": "code",
      "source": [
        "print(tasks)\n",
        "print(users)"
      ],
      "metadata": {
        "colab": {
          "base_uri": "https://localhost:8080/"
        },
        "id": "JiwB0pB3nNHI",
        "outputId": "1cdfadd9-98fa-4f7d-a999-5d60ae802e30"
      },
      "execution_count": null,
      "outputs": [
        {
          "output_type": "stream",
          "name": "stdout",
          "text": [
            "[{'id': '04239197-20ce-4c30-826c-25806644031c', 'name': 'One amount condition save outside.', 'description': 'Skill serious the of price consider agree. Discover evening message score.', 'due_date': '1988-02-21', 'status': 'DONE', 'assignee_id': 'user2'}, {'id': 'be37cdd4-3a12-4799-8a5c-f3f7052c3694', 'name': 'Policy class five.', 'description': 'Military toward worry seek property east. Turn others its much success worker.', 'due_date': '1982-05-20', 'status': 'IN_PROGRESS', 'assignee_id': 'user2'}, {'id': 'f1a9944b-16ec-48b7-98a0-f3c834b297ae', 'name': 'Court total sing force whom.', 'description': 'Enough memory that subject music system. Physical line whole single. Hard apply sort need.', 'due_date': '2001-09-08', 'status': 'DONE', 'assignee_id': 'user3'}, {'id': '17fba09c-93a9-47a4-beba-8f9c903f23b8', 'name': 'Take describe deal office.', 'description': 'Clear meet stuff role place. Ask care production want far. Fish source market possible.', 'due_date': '2008-01-03', 'status': 'TODO', 'assignee_id': 'user2'}, {'id': 'e414f5b4-d6db-4b49-ab65-617183012ef1', 'name': 'Throughout feel shake.', 'description': 'Provide along individual here despite sound star. Push our send career though. Mind type including government nearly themselves understand question.', 'due_date': '2020-11-19', 'status': 'TODO', 'assignee_id': 'user1'}, {'id': '4a189595-6485-402d-966d-39159d240a6f', 'name': 'Government yet far box middle simple player.', 'description': 'Share interest entire kind thus. Away away poor.', 'due_date': '1992-12-22', 'status': 'IN_PROGRESS', 'assignee_id': 'user1'}, {'id': '886ba987-4e65-4e6a-8566-7b0c9e7166af', 'name': 'Article spring tough also camera professional.', 'description': 'Deep agency inside strategy do. Try ten political move me. Behavior glass ever growth.', 'due_date': '1981-12-08', 'status': 'TODO', 'assignee_id': 'user2'}, {'id': '046e01d8-0046-42d9-8769-d0b92e8dd1a8', 'name': 'Lot meet imagine body market.', 'description': 'Political that beautiful school. Maintain from choice international toward arrive.', 'due_date': '1977-08-26', 'status': 'TODO', 'assignee_id': 'user2'}, {'id': '957d491f-7fbc-4ec3-a78d-d618f64eddc3', 'name': 'Page main everyone Mr.', 'description': 'Interview state night fall require large concern organization. Coach better risk smile director seem issue. Speech buy yes side.', 'due_date': '2006-04-30', 'status': 'IN_PROGRESS', 'assignee_id': 'user2'}, {'id': 'ea7755e4-1fe8-4502-921f-205557c085aa', 'name': 'Thousand because later especially.', 'description': 'Hear her sport. Around together concern dinner save happen nature. Assume again staff garden out level.', 'due_date': '1973-02-09', 'status': 'IN_PROGRESS', 'assignee_id': 'user2'}, {'id': 'e172b78a-bb35-4405-8d9a-40fb293cd4b9', 'name': 'Us finish whom.', 'description': 'Tree later quite better item behavior down drop. Real employee against yard small want.', 'due_date': '1981-03-10', 'status': 'TODO', 'assignee_id': 'user2'}, {'id': '2b307c08-c91c-4ba7-80b2-11f076ee7f18', 'name': 'End people anything employee with city memory summer.', 'description': 'Large almost option. Bed drug door act point office.', 'due_date': '1989-12-12', 'status': 'TODO', 'assignee_id': 'user2'}, {'id': '37081dea-e48c-48ec-98bc-69f7df1645e6', 'name': 'Suddenly rise still may might.', 'description': 'Writer over action rich peace good. Piece sound build which.', 'due_date': '2013-12-06', 'status': 'IN_PROGRESS', 'assignee_id': 'user2'}, {'id': 'ba21b20c-9d68-438e-8656-4fdcc33cfee8', 'name': 'City glass main audience.', 'description': 'Place ok recent both us space sort condition. Human court save north. Prepare language able company situation. Machine picture maintain.', 'due_date': '2012-05-23', 'status': 'IN_PROGRESS', 'assignee_id': 'user3'}, {'id': '7c34a7c0-8220-464f-90ca-0fc44f65eb5a', 'name': 'Development follow economic especially music.', 'description': 'Economic recent these could under. Seem political service ground. Or west fact fund term shake.', 'due_date': '1980-07-25', 'status': 'DONE', 'assignee_id': 'user1'}, {'id': '099c351e-676a-464f-b326-11e91c27714d', 'name': 'Leader receive occur sit make ground trip current.', 'description': 'Consider star bar year. Type since itself practice focus foot manager change.', 'due_date': '2010-04-22', 'status': 'IN_PROGRESS', 'assignee_id': 'user2'}, {'id': 'f5dc6f80-9710-48c5-a754-3cef66316c50', 'name': 'Thus back candidate hope issue.', 'description': 'High example beautiful serious high class. Production piece owner reach employee easy war think.', 'due_date': '1987-03-12', 'status': 'IN_PROGRESS', 'assignee_id': 'user2'}, {'id': 'b3ad774b-fc7f-45c5-9346-7807e2e2023c', 'name': 'Gas candidate spring nor player our cost.', 'description': 'Yet paper reason state fund. Us hospital local whatever west small.', 'due_date': '1993-02-02', 'status': 'IN_PROGRESS', 'assignee_id': 'user3'}, {'id': '18d1d304-ccc2-4a96-a33b-a458659e5e65', 'name': 'However on religious.', 'description': 'Whatever likely teach recognize each.', 'due_date': '1988-02-08', 'status': 'IN_PROGRESS', 'assignee_id': 'user1'}, {'id': '341a5b2c-85eb-48be-b349-8154c8465c48', 'name': 'Pattern claim cover firm.', 'description': 'Space across player sing risk industry. Put argue heart lose course role. First open child. Garden quality interview sometimes happen lot.', 'due_date': '2018-04-01', 'status': 'IN_PROGRESS', 'assignee_id': 'user1'}, {'id': 'fcfc1f81-954a-41b1-bb04-d999f51d3c07', 'name': 'Commercial time bed trip rule something also.', 'description': 'Food other save former girl look with. Watch mother goal book soon many world worry.', 'due_date': '1975-08-10', 'status': 'TODO', 'assignee_id': 'user1'}, {'id': 'ef103eb6-119a-41de-b930-413bbc3207b8', 'name': 'Tv energy must begin upon gun job.', 'description': 'Week account agent player.', 'due_date': '2018-09-09', 'status': 'DONE', 'assignee_id': 'user2'}, {'id': '4cbbe54c-0a53-4393-a3e2-ddb78b82da48', 'name': 'Figure practice between.', 'description': 'Light mind foot front mind. Manage up price Democrat surface call. Conference current when cost nearly.', 'due_date': '1981-08-15', 'status': 'IN_PROGRESS', 'assignee_id': 'user3'}, {'id': '5452b3b6-4c7c-4f88-97f4-1ebdb1f456fb', 'name': 'Forward over we music ball.', 'description': 'Seat yourself act who whether kid. Say medical surface the little significant during. Be life our be. Involve treatment development radio way.', 'due_date': '2006-12-14', 'status': 'TODO', 'assignee_id': 'user3'}, {'id': '86993dce-23f2-4562-a524-9e5159233e2c', 'name': 'Wife true analysis evidence reflect finish.', 'description': 'Strong reflect morning stage little create most. After professor happy.', 'due_date': '2001-09-08', 'status': 'DONE', 'assignee_id': 'user2'}, {'id': 'f64ee3f2-d1f7-4237-9ba9-c05ed2db5441', 'name': 'Just garden for threat agent owner entire.', 'description': 'Draw effort dream herself. Decade movement area factor. Concern president include modern budget idea like.', 'due_date': '2004-10-17', 'status': 'DONE', 'assignee_id': 'user2'}, {'id': 'bf4320c1-ccbf-4116-b217-87e4b94e6200', 'name': 'Watch and almost run lawyer.', 'description': 'Couple play story drive change citizen. Around dinner daughter who building by.', 'due_date': '1970-01-07', 'status': 'TODO', 'assignee_id': 'user2'}, {'id': 'fb7026f4-9413-412e-8883-d386b694ccf3', 'name': 'Gas rest month contain I still.', 'description': 'Particular cold by. Day response college south board part.', 'due_date': '1978-12-27', 'status': 'IN_PROGRESS', 'assignee_id': 'user2'}, {'id': 'b0754b7a-176d-4e9e-801f-2a4515d09311', 'name': 'Have any modern during kitchen national.', 'description': 'Since should visit specific certainly. Raise arrive understand born. More receive animal behind card.', 'due_date': '2017-01-01', 'status': 'IN_PROGRESS', 'assignee_id': 'user2'}, {'id': 'f25e2fa0-5ca3-4931-b889-db1a579e6d91', 'name': 'Discover through where at nice discussion.', 'description': 'Old decide case series watch apply effect. Involve talk care film task late.', 'due_date': '1972-03-14', 'status': 'IN_PROGRESS', 'assignee_id': 'user3'}, {'id': '1feb7172-af55-454c-9ff4-5cbf96571368', 'name': 'Street against example clear foreign.', 'description': 'Vote and wife popular reveal instead can everyone. Half employee force once stage. Scene call accept dream.', 'due_date': '2013-03-05', 'status': 'DONE', 'assignee_id': 'user2'}, {'id': '935c56c4-2dd7-4c64-ba3a-5db027a5a096', 'name': 'Speech event word total surface grow.', 'description': 'Process this recent sign. See social fill research Congress subject.', 'due_date': '2018-10-26', 'status': 'IN_PROGRESS', 'assignee_id': 'user3'}, {'id': '5be5f6c4-1622-4018-9d31-e655462b7594', 'name': 'Type chair police respond whose trade by.', 'description': 'Serve clear actually others discover. Back product matter party.', 'due_date': '2003-08-23', 'status': 'DONE', 'assignee_id': 'user1'}, {'id': 'c466716b-67ca-4816-8555-7f2428cc25d1', 'name': 'Individual from account situation.', 'description': 'Employee try she south wide guy. Side far worry executive side perform drive himself.', 'due_date': '2021-09-20', 'status': 'DONE', 'assignee_id': 'user2'}, {'id': 'ac2edfed-f586-45cd-89a6-fb5fa7b61ee7', 'name': 'Guess medical while staff despite difficult care.', 'description': 'Reflect economy president true apply. Certainly soon major star class. Return fill nice describe least same should.', 'due_date': '2020-07-18', 'status': 'DONE', 'assignee_id': 'user2'}, {'id': '2b2a535e-46a8-42d9-ae9d-a32c72d18de7', 'name': 'Contain five specific interest smile hot somebody sense.', 'description': 'She soon ever policy. Office identify explain call nation address. Old each nice attack western. Would sign reality radio support for.', 'due_date': '1996-10-09', 'status': 'TODO', 'assignee_id': 'user2'}, {'id': '9d892453-47b7-41a2-903e-c203f46a7d79', 'name': 'Local establish strategy article travel.', 'description': 'Concern although huge current last risk test. Dinner tend serve color would.', 'due_date': '1978-10-04', 'status': 'IN_PROGRESS', 'assignee_id': 'user1'}, {'id': '95f8c03d-26e7-461b-98dc-f250eaec116a', 'name': 'Ever there red friend federal.', 'description': 'Today back system product. Ten speak voice happen write say. Suggest happy throughout.', 'due_date': '1980-02-27', 'status': 'TODO', 'assignee_id': 'user2'}, {'id': '05e21e2c-8633-46f4-baf2-87579d8d31c1', 'name': 'Alone including figure carry.', 'description': 'Street cause official situation. Smile look choice why. Place sing reason while campaign.', 'due_date': '1974-05-25', 'status': 'TODO', 'assignee_id': 'user3'}, {'id': '59968e48-e6d6-4a41-ac5c-417a4320ac7c', 'name': 'Wonder similar through affect.', 'description': 'Role drop miss. Down run condition join quite bag. Attorney describe market like according artist also.', 'due_date': '2014-08-19', 'status': 'TODO', 'assignee_id': 'user1'}, {'id': '8dc5fef8-8520-401b-8363-3b844aff8a53', 'name': 'True recognize somebody six usually water.', 'description': 'Improve magazine gas here week. Into total first its word theory address practice. Item none audience heart if.', 'due_date': '1987-07-11', 'status': 'DONE', 'assignee_id': 'user3'}, {'id': 'e5ec5e20-f656-4691-93ad-cd1fc0fa2116', 'name': 'Save right election region cultural not worry.', 'description': 'Possible public keep direction but maintain. Address simple case right.', 'due_date': '1976-10-30', 'status': 'IN_PROGRESS', 'assignee_id': 'user1'}, {'id': '0afa4cda-b15d-4547-95f4-8b8329e757d5', 'name': 'Mission discuss they.', 'description': 'Generation out occur late significant. Season mean goal edge down.', 'due_date': '1999-02-03', 'status': 'DONE', 'assignee_id': 'user1'}, {'id': '75de7a94-d956-45d9-b3c5-c1503b8e026d', 'name': 'Evening allow maybe rate door.', 'description': 'Available live region hospital claim option party. Its contain protect music sign. Someone reach else such card meeting since.', 'due_date': '1982-05-12', 'status': 'IN_PROGRESS', 'assignee_id': 'user2'}, {'id': '56617b2e-fb7d-46b2-846a-d5d7e7b85a5e', 'name': 'Cultural head a course only after pay college.', 'description': 'If most long bed. Really any leave design daughter. No such news turn. Point second total such.', 'due_date': '2023-11-13', 'status': 'DONE', 'assignee_id': 'user1'}, {'id': 'bc74a9a2-1ef3-4650-b927-23dc34cee57f', 'name': 'Discuss matter PM agree fire hold.', 'description': 'Environmental image area over. Movement perhaps natural computer painting. Piece strong fall difficult.', 'due_date': '2015-07-19', 'status': 'IN_PROGRESS', 'assignee_id': 'user1'}, {'id': '0b0a28d5-935f-43f5-8e8f-be28b9f5e1e4', 'name': 'Both quickly create anything.', 'description': 'Space trial whose experience heavy heavy. Better thing forward read avoid.', 'due_date': '1995-02-12', 'status': 'DONE', 'assignee_id': 'user2'}, {'id': '7b54b296-6c46-407e-841a-f1e8aaf639a7', 'name': 'Management challenge final attention pay while put.', 'description': 'Adult rock three window speech home personal. Thousand simple couple staff sound she design. Kitchen both run. Light account author several.', 'due_date': '2000-06-22', 'status': 'TODO', 'assignee_id': 'user2'}, {'id': 'db3c52e9-d7a8-424e-854a-fe6169844dc6', 'name': 'Performance author pattern morning local drug.', 'description': 'Recent finally fly development after then. Board series movie guess throughout next.', 'due_date': '2008-11-14', 'status': 'IN_PROGRESS', 'assignee_id': 'user1'}, {'id': '2bfcee36-f593-4a3c-82e3-7db72714d051', 'name': 'Evidence away less accept modern.', 'description': 'Successful help hear person skill. Job author cause have positive goal.', 'due_date': '2021-09-11', 'status': 'IN_PROGRESS', 'assignee_id': 'user1'}, {'id': '7f8a0b58-7c04-40f4-ada3-adb4e6626ac9', 'name': 'Scene city buy phone himself drug happen particularly.', 'description': 'Language later those key black moment information. Six section what.', 'due_date': '1994-11-19', 'status': 'IN_PROGRESS', 'assignee_id': 'user1'}, {'id': '0c790ad0-1bc8-4d46-81b2-236df2737b06', 'name': 'And glass notice investment three matter teach local.', 'description': 'More worker something dark.', 'due_date': '1998-02-04', 'status': 'DONE', 'assignee_id': 'user3'}, {'id': '54e884aa-685d-498d-a217-aa07cd866ea8', 'name': 'Manage yes back again crime.', 'description': 'Throughout occur medical old within. Pattern majority including pick agency training various Congress. Account others fear environment low property side.', 'due_date': '2017-10-06', 'status': 'TODO', 'assignee_id': 'user3'}, {'id': '5260b0a9-93b4-4e3b-bb86-6edf51c24eea', 'name': 'Spend place agent would American air.', 'description': 'Here ok close tend end fall. Notice technology these store old old kid. Music computer store network whole. Central career trade fine environmental.', 'due_date': '1998-10-20', 'status': 'IN_PROGRESS', 'assignee_id': 'user3'}, {'id': 'd5ff11dd-68eb-4c15-86e5-bd6ff8cb4a0d', 'name': 'Evening any billion push only effect.', 'description': 'Stop often throughout physical. Team outside something treat weight that. Process smile already per.', 'due_date': '2010-03-31', 'status': 'TODO', 'assignee_id': 'user2'}, {'id': '7fd843e6-2f82-4ee4-b3fd-7009222f7425', 'name': 'Response force wrong why nearly everyone.', 'description': 'Material girl wide air chance yeah little trip. Worry her fine it your get three.', 'due_date': '2010-10-30', 'status': 'TODO', 'assignee_id': 'user3'}, {'id': 'f27f3554-f976-43e9-a26d-1aeb491bfba4', 'name': 'Mother government memory him station use themselves.', 'description': 'Opportunity series happy or son effect. Mean generation control born true evidence country. Teacher service trial everything admit.', 'due_date': '1984-02-28', 'status': 'IN_PROGRESS', 'assignee_id': 'user1'}, {'id': 'ea9180d1-3344-4aca-af63-fa1226cfe21c', 'name': 'He art training population.', 'description': 'Customer beyond process person his computer information fine. Mother car glass difficult check. Computer notice all leg shake see right pretty.', 'due_date': '1970-07-12', 'status': 'IN_PROGRESS', 'assignee_id': 'user1'}, {'id': '384c5d41-5a82-4bdb-9497-676597afd2e4', 'name': 'Statement low animal time establish trip.', 'description': 'Outside skin attack brother phone either. Rule million accept firm. Choice girl almost until language let ten.', 'due_date': '1992-04-02', 'status': 'DONE', 'assignee_id': 'user2'}, {'id': '54af0fd0-4ec9-4679-b7b5-50e68b7c8e82', 'name': 'Method car early account go way.', 'description': 'Out modern save executive prepare without five. Family which western character.', 'due_date': '1978-09-04', 'status': 'TODO', 'assignee_id': 'user3'}, {'id': '0507181a-d310-42aa-bbb6-778d80b8428b', 'name': 'Pick western early toward.', 'description': 'Rich my that occur dream. Soldier something by factor authority first hot. North issue main.', 'due_date': '1991-12-09', 'status': 'DONE', 'assignee_id': 'user2'}, {'id': '9d584a46-b9a3-43cf-8254-3b428c9f1c37', 'name': 'Parent adult product quickly mother.', 'description': 'Would bit about yard. Control whatever lot voice beyond. Again according amount interest.', 'due_date': '1993-01-23', 'status': 'DONE', 'assignee_id': 'user3'}, {'id': '5143a401-5acd-4308-b53c-12dbf722ca11', 'name': 'Prepare begin prepare amount thousand challenge be economy.', 'description': 'History land traditional rise early hot. Drop magazine person clearly difference. Next its help since. Student prepare anything couple class.', 'due_date': '1980-11-08', 'status': 'IN_PROGRESS', 'assignee_id': 'user3'}, {'id': 'b70aa1f0-b51e-485e-98e8-ca05be1b889b', 'name': 'Capital pattern public building seek design.', 'description': 'Right sit really allow bit. Answer population wait state order buy later. Catch like only others threat.', 'due_date': '2006-05-02', 'status': 'DONE', 'assignee_id': 'user3'}, {'id': 'a348cf7b-0c6a-4810-8724-a61facc2228d', 'name': 'Arm author media say clearly.', 'description': 'Their network top American. Accept player box your body.', 'due_date': '1986-07-12', 'status': 'IN_PROGRESS', 'assignee_id': 'user3'}, {'id': '1604c012-717e-4b55-83f6-32c49ad11d95', 'name': 'Within individual fear indeed affect.', 'description': 'Upon form quality fund feel. Consumer field imagine local knowledge east production. Ten vote thought yeah purpose leave.', 'due_date': '1999-07-22', 'status': 'IN_PROGRESS', 'assignee_id': 'user3'}, {'id': 'c609ca73-3155-4c40-964f-0d72e516eb64', 'name': 'During long specific set cost.', 'description': 'Herself reflect yourself enjoy whether stuff. Around then experience capital street major billion. Edge several simple on.', 'due_date': '1983-04-04', 'status': 'TODO', 'assignee_id': 'user3'}, {'id': '04bdded5-0f46-4ce7-9230-a08aa638cc9e', 'name': 'Hit majority movement night.', 'description': 'Hot unit save series light third. Low letter of possible. Debate none single including.', 'due_date': '1981-11-04', 'status': 'TODO', 'assignee_id': 'user2'}, {'id': 'dd7e056a-fdae-4013-84af-6fed588495fe', 'name': 'Magazine score chance movement until by.', 'description': 'Site director church top allow assume both. Beautiful relationship could value product people prepare. Show book indeed increase design.', 'due_date': '2012-01-09', 'status': 'DONE', 'assignee_id': 'user3'}, {'id': '3d1f2482-6023-4e4a-8a0a-f93662d2ea1d', 'name': 'Include ask economy maintain.', 'description': 'Young production one way contain. Technology customer design save nice whether. Pretty cup recently any no.', 'due_date': '1972-10-12', 'status': 'TODO', 'assignee_id': 'user3'}, {'id': 'c28a14d5-8496-4718-bdbf-48a6ae216590', 'name': 'Democrat just none wide group case treat cut.', 'description': 'Say according why couple fear blood. Success staff several.', 'due_date': '2010-03-15', 'status': 'DONE', 'assignee_id': 'user1'}, {'id': 'fb703f30-0807-458e-a8e4-ee6b8d7d6b11', 'name': 'Effort store position identify add.', 'description': 'Onto bar central dog since PM. Want specific blue government majority shoulder safe. Brother note win environmental. Scientist cultural who adult skill produce similar.', 'due_date': '1971-03-20', 'status': 'IN_PROGRESS', 'assignee_id': 'user3'}, {'id': '018739d7-94b0-4798-89b6-546e77e7a7bb', 'name': 'Performance detail produce something important.', 'description': 'Say summer own director yet green none build. Beat important option by list on alone end. Continue at east member describe Congress.', 'due_date': '2018-03-27', 'status': 'IN_PROGRESS', 'assignee_id': 'user2'}, {'id': '96047375-bd13-4b41-9b60-e10d8e7ed4d6', 'name': 'Within leave stop attorney inside fine.', 'description': 'Plan easy commercial sister service simple. Beautiful figure cost drive total among. Financial air shake approach cup.', 'due_date': '2020-08-08', 'status': 'TODO', 'assignee_id': 'user3'}, {'id': '03a792a2-6040-42e9-b107-eeffb4610c67', 'name': 'Mother baby Congress both outside whether.', 'description': 'Discussion long chair miss happy. Although whose administration statement. Easy production happy suffer radio think whose crime. It also cost beat over.', 'due_date': '2009-05-06', 'status': 'DONE', 'assignee_id': 'user3'}, {'id': 'd1f8047c-81da-42a3-9cbe-2f6ed17fc4c0', 'name': 'Claim middle statement leader visit not light.', 'description': 'Key our piece safe something record increase. Perform catch next technology cover well medical.', 'due_date': '1983-02-07', 'status': 'DONE', 'assignee_id': 'user2'}, {'id': '22d26003-dd53-4332-9d33-20643204e5b0', 'name': 'Thank just Mrs win yourself chair member.', 'description': 'Impact tend able standard without eight. Program wrong food feeling.', 'due_date': '2016-10-08', 'status': 'TODO', 'assignee_id': 'user1'}, {'id': '5d280f99-fb29-4d93-82fc-5a47f75da490', 'name': 'Rise quickly three food wind.', 'description': 'Population smile east many. Certain watch news economic.', 'due_date': '1979-06-15', 'status': 'DONE', 'assignee_id': 'user2'}, {'id': '1fee2947-7057-474e-beaf-1a0f77d9b392', 'name': 'Fall data view sure.', 'description': 'Rest building will defense. Way rock system impact country difference skill. Environment leg wonder direction child speech against.', 'due_date': '1977-04-23', 'status': 'DONE', 'assignee_id': 'user1'}, {'id': '781d1ce3-d13f-42a7-9ae0-b1f3dade16d9', 'name': 'Answer nor party food.', 'description': 'Child analysis economy drug. Board social garden.', 'due_date': '1996-03-28', 'status': 'IN_PROGRESS', 'assignee_id': 'user1'}, {'id': '9b3736a2-8a93-4e2b-b05b-496836021d5b', 'name': 'Itself good free control add.', 'description': 'Idea song option who right wish. Stage bill stop better discover pass word.', 'due_date': '1994-09-29', 'status': 'DONE', 'assignee_id': 'user3'}, {'id': '21570f64-1ad5-493d-ac44-e9a6f197bd3e', 'name': 'Guess may budget moment current can section.', 'description': 'Modern safe activity idea star thank.', 'due_date': '1978-12-18', 'status': 'DONE', 'assignee_id': 'user2'}, {'id': '523d07fd-13e9-45fc-a419-baf6a7086f5b', 'name': 'Cell watch rule second which play only.', 'description': 'Event enter season future tough often. Art current ago rich opportunity term. Dinner instead thank own.', 'due_date': '1982-09-03', 'status': 'TODO', 'assignee_id': 'user1'}, {'id': '992285ad-3933-451f-863f-88a5cdf77053', 'name': 'Center eat so drive.', 'description': 'Agent measure person determine story participant certainly however. Mention majority successful determine far forward significant onto.', 'due_date': '2003-05-06', 'status': 'IN_PROGRESS', 'assignee_id': 'user2'}, {'id': 'bd457723-8781-4e52-831b-fad21eed6dad', 'name': 'Only item administration give miss morning catch language.', 'description': 'Analysis person health sell law most through today. Chance small item down modern.', 'due_date': '2020-12-02', 'status': 'IN_PROGRESS', 'assignee_id': 'user1'}, {'id': 'fbc43e8d-c5f3-4af0-866a-7cb828f16783', 'name': 'Set continue election leg ok whose.', 'description': 'Assume rather wish poor long guy. Similar tax suffer admit or despite. Smile discussion son machine tend different each.', 'due_date': '1987-12-07', 'status': 'TODO', 'assignee_id': 'user2'}, {'id': '0e689d21-79a8-4991-a64e-ccdb3fcdc7ec', 'name': 'Quality improve each including late effort wonder argue.', 'description': 'Writer bag enjoy huge cup bill. Official strong fly hard old smile. Claim debate decade section table bar news let.', 'due_date': '2004-01-31', 'status': 'TODO', 'assignee_id': 'user3'}, {'id': '51c83b0e-019c-4a5d-9dd0-42a00dc92dcc', 'name': 'Remain money later however nor.', 'description': 'Building wrong present me nation. Collection force money ten moment. Certain cold indeed move success some look.', 'due_date': '1976-09-30', 'status': 'TODO', 'assignee_id': 'user2'}, {'id': 'aeefd143-846b-4cbf-b27d-9a9a74d977be', 'name': 'Agency involve give prepare.', 'description': 'Authority director decision cup. Sport hotel interview tend interesting. Development lay help no south voice get.', 'due_date': '2011-03-12', 'status': 'TODO', 'assignee_id': 'user2'}, {'id': 'ccfafb33-649c-4b20-a847-c060490f583b', 'name': 'Various sort agent rate.', 'description': 'Alone might run rock identify step. Loss machine first adult.', 'due_date': '2010-01-29', 'status': 'IN_PROGRESS', 'assignee_id': 'user1'}, {'id': '9b6ea945-db6e-4c48-991f-182cebce5941', 'name': 'Raise body party sound.', 'description': 'Reason answer bag available modern. Allow hot difference true medical ground than. Deal road city PM like certainly.', 'due_date': '2008-09-21', 'status': 'TODO', 'assignee_id': 'user2'}, {'id': 'edc0db16-6676-451c-980e-e49f6f97a369', 'name': 'Maintain end trouble range building.', 'description': 'As product capital safe issue none relationship. More executive everybody citizen fact student research. Family real professor enter.', 'due_date': '2021-01-04', 'status': 'IN_PROGRESS', 'assignee_id': 'user2'}, {'id': 'c021a738-3acb-446b-b133-baaec2d0e4bd', 'name': 'Candidate play individual player new kitchen already.', 'description': 'Try board others. Plant economic allow mention.', 'due_date': '1973-09-15', 'status': 'TODO', 'assignee_id': 'user1'}, {'id': 'd8e4e416-c12d-42ea-a0c6-79db1483b8c6', 'name': 'Inside reach amount environment.', 'description': 'Know public respond. Discussion clear share behind bill play open. Total smile thus whole lot positive. Try director me lawyer hear year.', 'due_date': '2023-04-08', 'status': 'TODO', 'assignee_id': 'user1'}, {'id': 'c6a69ead-1dde-4e76-97a2-ae1c7caca096', 'name': 'Full weight different newspaper.', 'description': 'Anyone provide seven fire human approach medical imagine. General these against music clear. Mr weight foreign.', 'due_date': '2003-10-26', 'status': 'TODO', 'assignee_id': 'user3'}, {'id': '0f2c1c92-1710-4cf1-b1f2-0bdd6a35b306', 'name': 'Memory project letter entire upon.', 'description': 'Collection so road image choose. None save positive somebody something. A bring bag general.', 'due_date': '1978-03-24', 'status': 'TODO', 'assignee_id': 'user2'}, {'id': '5a0bc867-de43-4026-a2fd-60fb97a8c9a1', 'name': 'Executive read significant day.', 'description': 'No six stuff authority road together. Hope everybody second government position bill Congress like.', 'due_date': '1991-08-05', 'status': 'TODO', 'assignee_id': 'user1'}, {'id': '4585200f-6fc5-4bb6-850e-e7b87482ec22', 'name': 'Forget discussion fire stock class company thought month.', 'description': 'Street road week election seek fish.', 'due_date': '1994-03-07', 'status': 'IN_PROGRESS', 'assignee_id': 'user1'}, {'id': '71eaa5e6-f136-4e17-8f86-26892e01f21d', 'name': 'Color peace doctor conference do ahead strong.', 'description': 'Nor none technology fear right energy. Fine yes especially positive let and.', 'due_date': '1976-06-03', 'status': 'DONE', 'assignee_id': 'user2'}, {'id': '9a789c7f-b171-43f8-8719-60e68b1ec0a4', 'name': 'Both third since.', 'description': 'About mean call brother. Dinner edge you business wrong miss bad. Red billion federal huge social.', 'due_date': '1995-09-10', 'status': 'DONE', 'assignee_id': 'user1'}]\n",
            "[{'id': 'b9490794-24d8-470b-ae9c-d4967f3176d0', 'name': 'Austin Fry', 'email': 'melanie50@example.com'}, {'id': 'd41289c2-9309-4829-b464-a03b4935bd68', 'name': 'Anthony Jones', 'email': 'james35@example.com'}, {'id': 'cc1dd5b1-9719-49db-b5a3-ff848f747658', 'name': 'Chelsea Cross', 'email': 'mitchellhoffman@example.net'}, {'id': '22c44b58-a357-48eb-8071-fe4935586d60', 'name': 'Norman Alexander', 'email': 'thomasdean@example.com'}, {'id': '196ffd6a-b736-4378-8d3c-ad6758e1cdd6', 'name': 'Marissa Garrison', 'email': 'jaclyn07@example.org'}, {'id': '55ae4275-5da1-4486-8ce8-c3755ac6c0c6', 'name': 'Daniel Doyle', 'email': 'twilson@example.net'}, {'id': 'ba9ba0ed-0e0f-446c-b139-bb879dd7a5ee', 'name': 'Abigail Andersen', 'email': 'vegajasmine@example.org'}, {'id': '9fa7d30a-4108-47bf-adc9-573706983ef7', 'name': 'Aaron Wolf', 'email': 'campbelljeffrey@example.com'}, {'id': '53c8288f-88be-4eb3-a8ba-75798d588889', 'name': 'Luke Higgins', 'email': 'diane06@example.com'}, {'id': '82949b42-da55-4e5a-8272-fc8ff184c3b5', 'name': 'Steven Carpenter', 'email': 'ruizfrederick@example.com'}]\n"
          ]
        }
      ]
    },
    {
      "cell_type": "code",
      "source": [
        "# Path to CSV files for tasks and users\n",
        "task_file = \"/content/drive/MyDrive/task manager Streamlit/tasks.csv\"\n",
        "user_file = \"/content/drive/MyDrive/task manager Streamlit/users.csv\"\n",
        "\n",
        "# Function to load task data from CSV\n",
        "def load_tasks():\n",
        "    if os.path.getsize(task_file) == 0:\n",
        "        raise ValueError(\"Task CSV file is empty.\")\n",
        "    df = pd.read_csv(task_file)\n",
        "    return df\n",
        "\n",
        "# Function to load user data from CSV\n",
        "def load_users():\n",
        "    if os.path.getsize(user_file) == 0:\n",
        "        raise ValueError(\"User CSV file is empty.\")\n",
        "    df = pd.read_csv(user_file)\n",
        "    return df\n",
        "\n",
        "tasks = load_tasks()\n",
        "users = load_users()"
      ],
      "metadata": {
        "id": "K48SEhi2maYB"
      },
      "execution_count": null,
      "outputs": []
    },
    {
      "cell_type": "markdown",
      "source": [
        "**4. Implement User Authentication (Basic):**"
      ],
      "metadata": {
        "id": "zhgyDT5AVIJi"
      }
    },
    {
      "cell_type": "code",
      "source": [
        "!pip install streamlit"
      ],
      "metadata": {
        "colab": {
          "base_uri": "https://localhost:8080/"
        },
        "id": "C1DEFlkXpKsM",
        "outputId": "1357471b-89f7-4156-8c77-b55da21fc870"
      },
      "execution_count": null,
      "outputs": [
        {
          "output_type": "stream",
          "name": "stdout",
          "text": [
            "Requirement already satisfied: streamlit in /usr/local/lib/python3.10/dist-packages (1.29.0)\n",
            "Requirement already satisfied: altair<6,>=4.0 in /usr/local/lib/python3.10/dist-packages (from streamlit) (4.2.2)\n",
            "Requirement already satisfied: blinker<2,>=1.0.0 in /usr/lib/python3/dist-packages (from streamlit) (1.4)\n",
            "Requirement already satisfied: cachetools<6,>=4.0 in /usr/local/lib/python3.10/dist-packages (from streamlit) (5.3.2)\n",
            "Requirement already satisfied: click<9,>=7.0 in /usr/local/lib/python3.10/dist-packages (from streamlit) (8.1.7)\n",
            "Requirement already satisfied: importlib-metadata<7,>=1.4 in /usr/local/lib/python3.10/dist-packages (from streamlit) (6.11.0)\n",
            "Requirement already satisfied: numpy<2,>=1.19.3 in /usr/local/lib/python3.10/dist-packages (from streamlit) (1.23.5)\n",
            "Requirement already satisfied: packaging<24,>=16.8 in /usr/local/lib/python3.10/dist-packages (from streamlit) (23.2)\n",
            "Requirement already satisfied: pandas<3,>=1.3.0 in /usr/local/lib/python3.10/dist-packages (from streamlit) (1.5.3)\n",
            "Requirement already satisfied: pillow<11,>=7.1.0 in /usr/local/lib/python3.10/dist-packages (from streamlit) (9.4.0)\n",
            "Requirement already satisfied: protobuf<5,>=3.20 in /usr/local/lib/python3.10/dist-packages (from streamlit) (3.20.3)\n",
            "Requirement already satisfied: pyarrow>=6.0 in /usr/local/lib/python3.10/dist-packages (from streamlit) (10.0.1)\n",
            "Requirement already satisfied: python-dateutil<3,>=2.7.3 in /usr/local/lib/python3.10/dist-packages (from streamlit) (2.8.2)\n",
            "Requirement already satisfied: requests<3,>=2.27 in /usr/local/lib/python3.10/dist-packages (from streamlit) (2.31.0)\n",
            "Requirement already satisfied: rich<14,>=10.14.0 in /usr/local/lib/python3.10/dist-packages (from streamlit) (13.7.0)\n",
            "Requirement already satisfied: tenacity<9,>=8.1.0 in /usr/local/lib/python3.10/dist-packages (from streamlit) (8.2.3)\n",
            "Requirement already satisfied: toml<2,>=0.10.1 in /usr/local/lib/python3.10/dist-packages (from streamlit) (0.10.2)\n",
            "Requirement already satisfied: typing-extensions<5,>=4.3.0 in /usr/local/lib/python3.10/dist-packages (from streamlit) (4.5.0)\n",
            "Requirement already satisfied: tzlocal<6,>=1.1 in /usr/local/lib/python3.10/dist-packages (from streamlit) (5.2)\n",
            "Requirement already satisfied: validators<1,>=0.2 in /usr/local/lib/python3.10/dist-packages (from streamlit) (0.22.0)\n",
            "Requirement already satisfied: gitpython!=3.1.19,<4,>=3.0.7 in /usr/local/lib/python3.10/dist-packages (from streamlit) (3.1.40)\n",
            "Requirement already satisfied: pydeck<1,>=0.8.0b4 in /usr/local/lib/python3.10/dist-packages (from streamlit) (0.8.1b0)\n",
            "Requirement already satisfied: tornado<7,>=6.0.3 in /usr/local/lib/python3.10/dist-packages (from streamlit) (6.3.2)\n",
            "Requirement already satisfied: watchdog>=2.1.5 in /usr/local/lib/python3.10/dist-packages (from streamlit) (3.0.0)\n",
            "Requirement already satisfied: entrypoints in /usr/local/lib/python3.10/dist-packages (from altair<6,>=4.0->streamlit) (0.4)\n",
            "Requirement already satisfied: jinja2 in /usr/local/lib/python3.10/dist-packages (from altair<6,>=4.0->streamlit) (3.1.2)\n",
            "Requirement already satisfied: jsonschema>=3.0 in /usr/local/lib/python3.10/dist-packages (from altair<6,>=4.0->streamlit) (4.19.2)\n",
            "Requirement already satisfied: toolz in /usr/local/lib/python3.10/dist-packages (from altair<6,>=4.0->streamlit) (0.12.0)\n",
            "Requirement already satisfied: gitdb<5,>=4.0.1 in /usr/local/lib/python3.10/dist-packages (from gitpython!=3.1.19,<4,>=3.0.7->streamlit) (4.0.11)\n",
            "Requirement already satisfied: zipp>=0.5 in /usr/local/lib/python3.10/dist-packages (from importlib-metadata<7,>=1.4->streamlit) (3.17.0)\n",
            "Requirement already satisfied: pytz>=2020.1 in /usr/local/lib/python3.10/dist-packages (from pandas<3,>=1.3.0->streamlit) (2023.3.post1)\n",
            "Requirement already satisfied: six>=1.5 in /usr/local/lib/python3.10/dist-packages (from python-dateutil<3,>=2.7.3->streamlit) (1.16.0)\n",
            "Requirement already satisfied: charset-normalizer<4,>=2 in /usr/local/lib/python3.10/dist-packages (from requests<3,>=2.27->streamlit) (3.3.2)\n",
            "Requirement already satisfied: idna<4,>=2.5 in /usr/local/lib/python3.10/dist-packages (from requests<3,>=2.27->streamlit) (3.6)\n",
            "Requirement already satisfied: urllib3<3,>=1.21.1 in /usr/local/lib/python3.10/dist-packages (from requests<3,>=2.27->streamlit) (2.0.7)\n",
            "Requirement already satisfied: certifi>=2017.4.17 in /usr/local/lib/python3.10/dist-packages (from requests<3,>=2.27->streamlit) (2023.11.17)\n",
            "Requirement already satisfied: markdown-it-py>=2.2.0 in /usr/local/lib/python3.10/dist-packages (from rich<14,>=10.14.0->streamlit) (3.0.0)\n",
            "Requirement already satisfied: pygments<3.0.0,>=2.13.0 in /usr/local/lib/python3.10/dist-packages (from rich<14,>=10.14.0->streamlit) (2.16.1)\n",
            "Requirement already satisfied: smmap<6,>=3.0.1 in /usr/local/lib/python3.10/dist-packages (from gitdb<5,>=4.0.1->gitpython!=3.1.19,<4,>=3.0.7->streamlit) (5.0.1)\n",
            "Requirement already satisfied: MarkupSafe>=2.0 in /usr/local/lib/python3.10/dist-packages (from jinja2->altair<6,>=4.0->streamlit) (2.1.3)\n",
            "Requirement already satisfied: attrs>=22.2.0 in /usr/local/lib/python3.10/dist-packages (from jsonschema>=3.0->altair<6,>=4.0->streamlit) (23.1.0)\n",
            "Requirement already satisfied: jsonschema-specifications>=2023.03.6 in /usr/local/lib/python3.10/dist-packages (from jsonschema>=3.0->altair<6,>=4.0->streamlit) (2023.11.2)\n",
            "Requirement already satisfied: referencing>=0.28.4 in /usr/local/lib/python3.10/dist-packages (from jsonschema>=3.0->altair<6,>=4.0->streamlit) (0.32.0)\n",
            "Requirement already satisfied: rpds-py>=0.7.1 in /usr/local/lib/python3.10/dist-packages (from jsonschema>=3.0->altair<6,>=4.0->streamlit) (0.15.2)\n",
            "Requirement already satisfied: mdurl~=0.1 in /usr/local/lib/python3.10/dist-packages (from markdown-it-py>=2.2.0->rich<14,>=10.14.0->streamlit) (0.1.2)\n"
          ]
        }
      ]
    },
    {
      "cell_type": "code",
      "source": [
        "import streamlit as st"
      ],
      "metadata": {
        "id": "5pVowAAZo_ir"
      },
      "execution_count": null,
      "outputs": []
    },
    {
      "cell_type": "code",
      "source": [
        "# Function to handle login (replace with your authentication logic)\n",
        "def login():\n",
        "    username = st.text_input(\"Username\")\n",
        "    password = st.text_input(\"Password\", type=\"password\")\n",
        "    # Check credentials against user_file\n",
        "    # If successful, set user information in session state\n",
        "\n",
        "# Check for logged-in user\n",
        "if \"user\" not in st.session_state:\n",
        "    login()"
      ],
      "outputs": [
        {
          "output_type": "stream",
          "name": "stderr",
          "text": [
            "2023-12-26 21:35:20.837 WARNING streamlit.runtime.state.session_state_proxy: Session state does not function when running a script without `streamlit run`\n",
            "2023-12-26 21:35:20.935 \n",
            "  \u001b[33m\u001b[1mWarning:\u001b[0m to view this Streamlit app on a browser, run it with the following\n",
            "  command:\n",
            "\n",
            "    streamlit run /usr/local/lib/python3.10/dist-packages/colab_kernel_launcher.py [ARGUMENTS]\n"
          ]
        }
      ],
      "execution_count": null,
      "metadata": {
        "id": "wr56_Y-bVIJj",
        "colab": {
          "base_uri": "https://localhost:8080/"
        },
        "outputId": "da053ff7-9f14-4acc-c7b6-bfb7d2732b67"
      }
    },
    {
      "cell_type": "markdown",
      "source": [
        "**5. Create Admin Dashboard (Initial):**"
      ],
      "metadata": {
        "id": "OZMxcCEnVIJk"
      }
    },
    {
      "cell_type": "code",
      "source": [
        "def admin_dashboard():\n",
        "    st.title(\"Admin Dashboard\")\n",
        "    # Display overview of tasks and users\n",
        "    st.dataframe(tasks)\n",
        "    st.dataframe(users)\n",
        "    # Add options for task management and user management"
      ],
      "outputs": [],
      "execution_count": null,
      "metadata": {
        "id": "4MGWtSVTVIJl"
      }
    },
    {
      "cell_type": "markdown",
      "source": [
        "**6. Create User Dashboard (Initial):**"
      ],
      "metadata": {
        "id": "XWPcgpHpVIJm"
      }
    },
    {
      "cell_type": "code",
      "source": [
        "def user_dashboard():\n",
        "    st.title(\"User Dashboard\")\n",
        "    # Display assigned tasks with details and progress tracking\n",
        "    # Allow users to update task status and provide feedback"
      ],
      "outputs": [],
      "execution_count": null,
      "metadata": {
        "id": "MJV8XMUBVIJm"
      }
    },
    {
      "cell_type": "markdown",
      "source": [
        "**7. Implement Task Management Features (Basic):**"
      ],
      "metadata": {
        "id": "LunQ52C5VIJn"
      }
    },
    {
      "cell_type": "code",
      "source": [
        "# Function to create a new task\n",
        "def create_task():\n",
        "    # Collect task details from user input\n",
        "    # Add new task to tasks DataFrame and save to CSV\n",
        "\n",
        "# Function to edit a task\n",
        " def edit_task():\n",
        "    # Display a list of tasks for selection\n",
        "    # Edit selected task based on user input\n",
        "     # Update tasks DataFrame and save to CSV\n",
        "\n",
        "\n",
        "  def assign_task(task_id, user_id):\n",
        "    # Retrieve the task from the tasks DataFrame\n",
        "    task = tasks.loc[tasks[\"id\"] == task_id]\n",
        "\n",
        "    # Update the assignee of the task\n",
        "    task.loc[\"assignee\"] = user_id\n",
        "\n",
        "    # Save the changes to the CSV file\n",
        "    tasks.to_csv(task_file, index=False)\n",
        "  def delete_task(task_id):\n",
        "    # Remove the task from the tasks DataFrame\n",
        "    tasks = tasks.loc[tasks[\"id\"] != task_id]\n",
        "\n",
        "    # Save the updated DataFrame to the CSV file\n",
        "    tasks.to_csv(task_file, index=False)\n",
        "  def filter_tasks(criteria):\n",
        "    # Filter the tasks DataFrame based on the provided criteria\n",
        "    filtered_tasks = tasks.loc[criteria]\n",
        "\n",
        "    # Return the filtered tasks\n",
        "    return filtered_tasks\n"
      ],
      "metadata": {
        "id": "5yuYhsEvrOiT"
      },
      "execution_count": null,
      "outputs": []
    },
    {
      "cell_type": "markdown",
      "source": [
        "**8. Integrate with Google Calendar:**"
      ],
      "metadata": {
        "id": "IDtiOy5WVIJo"
      }
    },
    {
      "cell_type": "code",
      "source": [
        "# ... implement functions to sync tasks with Google Calendar"
      ],
      "outputs": [],
      "execution_count": null,
      "metadata": {
        "id": "0XzY_x2rVIJo"
      }
    },
    {
      "cell_type": "markdown",
      "source": [
        "**9. Run the App in Google Colab:**"
      ],
      "metadata": {
        "id": "AUwmH7bmVIJp"
      }
    },
    {
      "cell_type": "code",
      "source": [
        "# Create a new file named app.py\n",
        "with open(\"app.py\", \"w\") as f:\n",
        "  # Write the initial content of your app to the file\n",
        "  f.write(\"\"\"\n",
        "import streamlit as st\n",
        "\n",
        "# Add your app's code here\n",
        "\n",
        "# Example: Display a simple title and text\n",
        "st.title(\"My Streamlit App\")\n",
        "st.write(\"This is my first Streamlit app in Colab!\")\n",
        "\"\"\")\n",
        "\n",
        "# Print a message to confirm file creation\n",
        "print(\"File app.py created successfully!\")\n"
      ],
      "metadata": {
        "colab": {
          "base_uri": "https://localhost:8080/"
        },
        "id": "hJfE4G7hAgIg",
        "outputId": "5676f909-cc33-4ffc-d5fc-5362e7aa7b74"
      },
      "execution_count": null,
      "outputs": [
        {
          "output_type": "stream",
          "name": "stdout",
          "text": [
            "File app.py created successfully!\n"
          ]
        }
      ]
    },
    {
      "cell_type": "code",
      "source": [
        "!streamlit run app.py\n"
      ],
      "metadata": {
        "colab": {
          "base_uri": "https://localhost:8080/"
        },
        "id": "GJ-x26mk_yZB",
        "outputId": "b08ddf75-6aed-42b6-87c0-9a856ad1c67c"
      },
      "execution_count": null,
      "outputs": [
        {
          "output_type": "stream",
          "name": "stdout",
          "text": [
            "\n",
            "Collecting usage statistics. To deactivate, set browser.gatherUsageStats to False.\n",
            "\u001b[0m\n",
            "\u001b[0m\n",
            "\u001b[34m\u001b[1m  You can now view your Streamlit app in your browser.\u001b[0m\n",
            "\u001b[0m\n",
            "\u001b[34m  Network URL: \u001b[0m\u001b[1mhttp://172.28.0.12:8501\u001b[0m\n",
            "\u001b[34m  External URL: \u001b[0m\u001b[1mhttp://34.125.224.187:8501\u001b[0m\n",
            "\u001b[0m\n"
          ]
        }
      ]
    },
    {
      "cell_type": "code",
      "source": [
        "# ... (same as before)"
      ],
      "outputs": [],
      "execution_count": null,
      "metadata": {
        "id": "mpMPKgZbVIJp"
      }
    },
    {
      "cell_type": "code",
      "source": [
        "!wget -q -O - ipv4.icanhazip.com\n",
        "\n"
      ],
      "metadata": {
        "id": "Xt2Y7TFc5-wM"
      },
      "execution_count": null,
      "outputs": []
    },
    {
      "cell_type": "markdown",
      "source": [
        "**I'll continue to refine the code as you provide more details about your specific requirements and preferences for each feature.\n",
        "Please share any additional information or questions you have.**"
      ],
      "metadata": {
        "id": "GgKJVIKSVIJp"
      }
    }
  ],
  "metadata": {
    "colab": {
      "provenance": [],
      "include_colab_link": true
    },
    "kernelspec": {
      "display_name": "Python 3",
      "name": "python3"
    }
  },
  "nbformat": 4,
  "nbformat_minor": 0
}